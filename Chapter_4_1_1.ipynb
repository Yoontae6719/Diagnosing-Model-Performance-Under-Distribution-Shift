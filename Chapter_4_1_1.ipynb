{
 "cells": [
  {
   "cell_type": "markdown",
   "id": "5d58be62-b81d-4037-9572-d598ceb19fee",
   "metadata": {},
   "source": [
    "### Diagnosing Model Performance Under Distribution Shift\n",
    "\n",
    "- To ensure that we are examining the impact of the Y|X shift(Chapter 4.1.1), we examine the Education variable as follows.\n",
    "- In the code below, Edu (type: list) represents the values listed in the order of education. We use Preschool to Hs-Grad as the source data and Some-college to Doctorate as the target data.\n",
    "- In other words, we believe that the salary level (>=50K) has a strong influence on Education, but there are no highly educated people in the Train data, so we have a missing/unobserved covariate."
   ]
  },
  {
   "cell_type": "code",
   "execution_count": 1,
   "id": "57cf6dc6-0030-4c23-b074-4fecff49a962",
   "metadata": {},
   "outputs": [],
   "source": [
    "import pandas as pd\n",
    "import numpy as np\n",
    "from sklearn.preprocessing import LabelEncoder, StandardScaler\n",
    "from sklearn.linear_model import LogisticRegression\n",
    "from sklearn.metrics import log_loss\n",
    "from sklearn.metrics import accuracy_score\n",
    "from sklearn.ensemble import RandomForestClassifier\n",
    "pd.set_option('mode.chained_assignment', 'raise') # SettingWithCopyError\n",
    "\n",
    "# Step 1. Load the Adult dataset\n",
    "url = \"https://archive.ics.uci.edu/ml/machine-learning-databases/adult/adult.data\"\n",
    "columns = [\"Age\", \"Workclass\", \"fnlwgt\", \"Education\", \"Education-Num\", \"Marital Status\",\n",
    "           \"Occupation\", \"Relationship\", \"Race\", \"Sex\", \"Capital Gain\", \"Capital Loss\",\n",
    "           \"Hours per week\", \"Country\", \"Target\"]\n",
    "df = pd.read_csv(url, names=columns, sep=r'\\s*,\\s*', engine='python', na_values=\"?\")\n",
    "cont = [\"Age\",\"fnlwgt\", \"Education-Num\", \"Capital Gain\", \"Capital Loss\", \"Hours per week\"]\n",
    "\n",
    "\n",
    "Edu =  ['Preschool', '1st-4th', '5th-6th', '7th-8th', '9th', '10th', '11th', '12th', 'HS-grad', \n",
    "        'Some-college', 'Assoc-voc', 'Assoc-acdm', 'Bachelors', 'Masters', 'Prof-school', 'Doctorate']"
   ]
  },
  {
   "cell_type": "code",
   "execution_count": 2,
   "id": "87747e2e-b2aa-41c9-8d60-00290d0ac63a",
   "metadata": {},
   "outputs": [],
   "source": [
    "# Assume we have data from P and Q\n",
    "\n",
    "df_P =  df[df[\"Education\"].isin(Edu[:9])].reset_index(drop = True)\n",
    "df_Q =  df[df[\"Education\"].isin(Edu[9:])].reset_index(drop = True)\n",
    "\n",
    "df_P[cont] = (df_P[cont] - df_P[cont].mean() )/ df_P[cont].std()\n",
    "df_Q[cont] = (df_Q[cont] - df_Q[cont].mean() )/ df_Q[cont].std()\n",
    "\n",
    "\n",
    "# Preprocess the data\n",
    "le = LabelEncoder()\n",
    "for column in df.columns:\n",
    "    if df[column].dtype == type(object):\n",
    "        le.fit(df[column].astype(str))\n",
    "        df_P.loc[:, column] = le.transform(df_P[column].astype(str))\n",
    "        df_Q.loc[:, column] = le.transform(df_Q[column].astype(str))\n",
    "    else:\n",
    "        pass\n",
    "\n",
    "    \n",
    "# Assume we have data from P and Q\n",
    "X_P = df_P.drop(['Target', \"Education\"], axis=1).values\n",
    "y_P = df_P['Target'].values\n",
    "X_Q = df_Q.drop(['Target', \"Education\"], axis=1).values\n",
    "y_Q = df_Q['Target'].values\n"
   ]
  },
  {
   "cell_type": "code",
   "execution_count": 3,
   "id": "c9445dd2-d023-408a-a157-39a6b595f552",
   "metadata": {},
   "outputs": [],
   "source": [
    "def detect_shift(X_P, X_Q, y_P, y_Q, print_logloss = True):\n",
    "    \n",
    "    # Pre step : Define Models\n",
    "    model_f = RandomForestClassifier(max_depth=2, random_state=0) #LogisticRegression(solver = 'liblinear') # need check\n",
    "    pi_estimator = LogisticRegression(solver = 'liblinear') # this model is a better fit for the TREE model.\n",
    "\n",
    "    # Step 1: Estimation of E_P[R_P(X)] and E_Q[R_Q(X)]\n",
    "    model_f.fit(X_P, y_P)\n",
    "\n",
    "    # Compute losses for P and Q\n",
    "    # We use Log Loss for evaluation!\n",
    "    E_P_RP = log_loss(y_P, model_f.predict_proba(X_P))\n",
    "    E_Q_RQ = log_loss(y_Q, model_f.predict_proba(X_Q))\n",
    "    \n",
    "    if print_logloss:\n",
    "        print(\"===Estimiate log loss===\")\n",
    "        print(\"E_P_RP: \", E_P_RP)\n",
    "        print(\"E_Q_RP: \", E_Q_RQ)\n",
    "    else:\n",
    "        pass\n",
    "\n",
    "    # Step 2: Estimate alpha hat\n",
    "    n_P = len(y_P)\n",
    "    n_Q = len(y_Q)\n",
    "    alpha_hat = n_Q / (n_P + n_Q)\n",
    "\n",
    "    # Step 3: Estimate pi_hat(x)\n",
    "    # Compare this paper Stable Learning via Sample Reweighting https://arxiv.org/abs/1911.12580\n",
    "    X_combined = np.vstack((X_P, X_Q))\n",
    "    y_combined = np.hstack((np.zeros(len(y_P)), np.ones(len(y_Q))))\n",
    "    pi_estimator.fit(X_combined, y_combined)\n",
    "\n",
    "    # Step 4: Calculate importance weights\n",
    "    pi_P = pi_estimator.predict_proba(X_P)[:, 1]\n",
    "    pi_Q = pi_estimator.predict_proba(X_Q)[:, 1]\n",
    "    w_P = pi_P / ((1 - alpha_hat) * pi_P + alpha_hat * (1 - pi_P))\n",
    "    w_Q = (1 - pi_Q) / ((1 - alpha_hat) * pi_Q + alpha_hat * (1 - pi_Q))\n",
    "    \n",
    "    # Step 5: Estimate E_S[R_P(X)] and E_S[R_Q(X)] using these importance weights:\n",
    "    proba_P = model_f.predict_proba(X_P)\n",
    "    proba_Q = model_f.predict_proba(X_Q)\n",
    "\n",
    "    logloss_P = np.array([-np.log(proba_P[i][y_P[i]]) for i in range(len(y_P))])\n",
    "    logloss_Q = np.array([-np.log(proba_Q[i][y_Q[i]]) for i in range(len(y_Q))])\n",
    "\n",
    "    E_S_RP = np.sum(w_P * logloss_P) / np.sum(w_P)\n",
    "    E_S_RQ = np.sum(w_Q * logloss_Q) / np.sum(w_Q)\n",
    "\n",
    "\n",
    "    # Step 6: Differences between consecutive pairs of estimates\n",
    "    P_to_S    = E_P_RP - E_S_RP # P to S\n",
    "    Y_X_Shift = E_S_RP - E_S_RQ # Y|X shfit  \n",
    "    S_to_Q    = E_S_RQ - E_Q_RQ # S to Q\n",
    "\n",
    "    \n",
    "    return P_to_S, Y_X_Shift, S_to_Q"
   ]
  },
  {
   "cell_type": "code",
   "execution_count": 4,
   "id": "c95fc600-83ac-44dd-835d-e0876bb79da9",
   "metadata": {},
   "outputs": [
    {
     "name": "stdout",
     "output_type": "stream",
     "text": [
      "===Estimiate log loss===\n",
      "E_P_RP:  0.3078876081105159\n",
      "E_Q_RP:  0.6278015827227769\n"
     ]
    }
   ],
   "source": [
    "P_to_S, Y_X_Shift, S_to_Q = detect_shift(X_P, X_Q, y_P, y_Q)"
   ]
  },
  {
   "cell_type": "code",
   "execution_count": 5,
   "id": "4476fded-a021-41bd-8990-efabd10f42a0",
   "metadata": {},
   "outputs": [
    {
     "name": "stdout",
     "output_type": "stream",
     "text": [
      "===Estimiate log loss===\n",
      "E_P_RP:  0.3078876081105159\n",
      "E_Q_RP:  0.6278015827227769\n"
     ]
    },
    {
     "data": {
      "text/plain": [
       "(-0.004001945854830047, -0.31422542529796166, -0.0016866034594692492)"
      ]
     },
     "execution_count": 5,
     "metadata": {},
     "output_type": "execute_result"
    }
   ],
   "source": [
    "detect_shift(X_P, X_Q, y_P, y_Q)"
   ]
  },
  {
   "cell_type": "code",
   "execution_count": 6,
   "id": "cce39110-da92-4c9e-80ee-68c70b5d4c45",
   "metadata": {},
   "outputs": [],
   "source": [
    "def model_run(X_P, X_Q, y_P, y_Q):\n",
    "    model = RandomForestClassifier(max_depth=2, random_state=0)\n",
    "    model.fit(X_P, y_P)\n",
    "\n",
    "    y_P_pred = model.predict(X_P)\n",
    "    y_Q_pred = model.predict(X_Q)\n",
    "\n",
    "    accuracy_P = accuracy_score(y_P, y_P_pred)\n",
    "    accuracy_Q = accuracy_score(y_Q, y_Q_pred)\n",
    "\n",
    "    #print(f\"Accuracy on Source: {accuracy_P}\")\n",
    "    #print(f\"Accuracy on Target: {accuracy_Q}\")\n",
    "\n",
    "    accuracy_degradation = accuracy_P - accuracy_Q\n",
    "    #print(f\"Accuracy degradation from Source to Target: {accuracy_degradation}\")\n",
    "    \n",
    "    return accuracy_P, accuracy_Q\n",
    "\n",
    "\n"
   ]
  },
  {
   "cell_type": "code",
   "execution_count": 7,
   "id": "db6ca371-5c1d-445c-94dc-c966ee379b3b",
   "metadata": {},
   "outputs": [],
   "source": [
    "P, Q = model_run(X_P, X_Q, y_P, y_Q)"
   ]
  },
  {
   "cell_type": "code",
   "execution_count": 8,
   "id": "1134595f-c424-472d-ae08-becb0c643570",
   "metadata": {},
   "outputs": [],
   "source": [
    "Y_X_Shift_norm = (Y_X_Shift / (P_to_S + Y_X_Shift + S_to_Q )) * (P - Q)\n",
    "P_to_S_norm = (P_to_S / (P_to_S + Y_X_Shift + S_to_Q )) * (P - Q)\n",
    "S_to_Q_norm = (S_to_Q / (P_to_S + Y_X_Shift + S_to_Q )) * (P - Q)"
   ]
  },
  {
   "cell_type": "code",
   "execution_count": 9,
   "id": "2e0f0738-cb93-4b97-8ba4-231aafb323a2",
   "metadata": {},
   "outputs": [
    {
     "data": {
      "image/png": "[encoded data removed]",
      "text/plain": [
       "<Figure size 640x480 with 1 Axes>"
      ]
     },
     "metadata": {},
     "output_type": "display_data"
    }
   ],
   "source": [
    "import matplotlib.pyplot as plt\n",
    "\n",
    "x_values = ['Source(Low Edu)', 'Target(High Edu)', 'difference']\n",
    "y_values = [P, Q, [P_to_S_norm, S_to_Q_norm, Y_X_Shift_norm]]\n",
    "difference_labels = ['P_to_S', 'S_to_Q', 'Y_X_shift']\n",
    "\n",
    "fig, ax = plt.subplots()\n",
    "ax.bar(x_values[:-1], y_values[:-1], align='center')\n",
    "ax.bar(difference_labels, y_values[-1], align='center', width=0.5)\n",
    "\n",
    "ax.set_ylim([0, 1])\n",
    "plt.xticks(rotation=45)  \n",
    "\n",
    "plt.title('Y|X shift: missing/unobserved covariates [Education covariates]')\n",
    "plt.ylabel('Accuracy')\n",
    "plt.tight_layout()\n",
    "plt.show()\n",
    "\n"
   ]
  },
  {
   "cell_type": "code",
   "execution_count": null,
   "id": "c2e7f2a0-2baa-49f2-8a66-16c696cc9501",
   "metadata": {},
   "outputs": [],
   "source": []
  },
  {
   "cell_type": "code",
   "execution_count": null,
   "id": "6ed3413d-9513-4ba3-a3e9-dd05227ef3b8",
   "metadata": {},
   "outputs": [],
   "source": []
  }
 ],
 "metadata": {
  "kernelspec": {
   "display_name": "bigcon",
   "language": "python",
   "name": "bigcon"
  },
  "language_info": {
   "codemirror_mode": {
    "name": "ipython",
    "version": 3
   },
   "file_extension": ".py",
   "mimetype": "text/x-python",
   "name": "python",
   "nbconvert_exporter": "python",
   "pygments_lexer": "ipython3",
   "version": "3.8.13"
  }
 },
 "nbformat": 4,
 "nbformat_minor": 5
}

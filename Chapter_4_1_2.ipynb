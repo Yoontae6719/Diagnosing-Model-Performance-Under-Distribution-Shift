{
 "cells": [
  {
   "cell_type": "markdown",
   "id": "7d5e9807-d0c5-4ddf-89df-0c0ca8c93481",
   "metadata": {},
   "source": [
    "### Diagnosing Model Performance Under Distribution Shift\n",
    "\n",
    "- To ensure that we are examining the impact of the X shift(Chapter 4.1.2), we examine the Age variable as follows.\n",
    "- In the code below, the source data consists of individuals aged 25 and under, while the target data encompasses a range of ages, including individuals aged 25 and under in the general population."
   ]
  },
  {
   "cell_type": "code",
   "execution_count": 1,
   "id": "c7a26c0a-d4d8-47f3-8395-c83d29e15454",
   "metadata": {
    "collapsed": true,
    "jupyter": {
     "outputs_hidden": true
    },
    "tags": []
   },
   "outputs": [
    {
     "name": "stderr",
     "output_type": "stream",
     "text": [
      "/tmp/ipykernel_18617/3100231703.py:34: SettingWithCopyWarning: \n",
      "A value is trying to be set on a copy of a slice from a DataFrame.\n",
      "Try using .loc[row_indexer,col_indexer] = value instead\n",
      "\n",
      "See the caveats in the documentation: https://pandas.pydata.org/pandas-docs/stable/user_guide/indexing.html#returning-a-view-versus-a-copy\n",
      "  X_sample_train[cont] = scaler.fit_transform(X_sample_train[cont])\n"
     ]
    }
   ],
   "source": [
    "import pandas as pd\n",
    "import numpy as np\n",
    "from sklearn.preprocessing import LabelEncoder, StandardScaler\n",
    "from sklearn.linear_model import LogisticRegression\n",
    "from sklearn.metrics import log_loss\n",
    "from sklearn.metrics import accuracy_score\n",
    "from sklearn.ensemble import RandomForestClassifier\n",
    "from sklearn.model_selection import train_test_split\n",
    "\n",
    "# Load the Adult dataset\n",
    "url = \"https://archive.ics.uci.edu/ml/machine-learning-databases/adult/adult.data\"\n",
    "columns = [\"Age\", \"Workclass\", \"fnlwgt\", \"Education\", \"Education-Num\", \"Marital Status\",\n",
    "           \"Occupation\", \"Relationship\", \"Race\", \"Sex\", \"Capital Gain\", \"Capital Loss\",\n",
    "           \"Hours per week\", \"Country\", \"Target\"]\n",
    "\n",
    "cont = [\"Age\",\"fnlwgt\", \"Education-Num\", \"Capital Gain\", \"Capital Loss\", \"Hours per week\"]\n",
    "\n",
    "df = pd.read_csv(url, names=columns, sep=r'\\s*,\\s*', engine='python', na_values=\"?\")\n",
    "\n",
    "label_encoder = LabelEncoder()\n",
    "categorical_cols = ['Workclass', 'Education', 'Marital Status', 'Occupation', 'Relationship', 'Race', 'Sex', 'Country', 'Target']\n",
    "for col in categorical_cols:\n",
    "    df[col] = label_encoder.fit_transform(df[col])\n",
    "\n",
    "X = df.drop(\"Target\", axis=1)\n",
    "y = df[\"Target\"]\n",
    "X_train, X_test, y_train, y_test = train_test_split(X, y, test_size=0.4, random_state=42)\n",
    "\n",
    "\n",
    "X_sample_train = X_train[X_train[\"Age\"] <= 25]\n",
    "y_sample_train = y_train[X_train[\"Age\"] <= 25]\n",
    "\n",
    "scaler = StandardScaler()\n",
    "X_sample_train[cont] = scaler.fit_transform(X_sample_train[cont])\n",
    "X_test[cont] = scaler.transform(X_test[cont])"
   ]
  },
  {
   "cell_type": "code",
   "execution_count": 2,
   "id": "88657a65-3367-4e92-b2c0-bee0b7fdebbd",
   "metadata": {},
   "outputs": [],
   "source": [
    "X_P = X_sample_train.values\n",
    "y_P  =y_sample_train.values\n",
    "X_Q = X_test.values\n",
    "y_Q = y_test.values"
   ]
  },
  {
   "cell_type": "code",
   "execution_count": 3,
   "id": "b5dd6f84-65d9-4b3e-8486-65ce6f665183",
   "metadata": {},
   "outputs": [],
   "source": [
    "def detect_shift(X_P, X_Q, y_P, y_Q, print_logloss = True):\n",
    "    \n",
    "    # Pre step : Define Models\n",
    "    model_f = RandomForestClassifier(max_depth=2, random_state=0) #LogisticRegression(solver = 'liblinear') # need check\n",
    "    pi_estimator = LogisticRegression(solver = 'liblinear') # this model is a better fit for the TREE model.\n",
    "\n",
    "    # Step 1: Estimation of E_P[R_P(X)] and E_Q[R_Q(X)]\n",
    "    model_f.fit(X_P, y_P)\n",
    "\n",
    "    # Compute losses for P and Q\n",
    "    # We use Log Loss for evaluation!\n",
    "    E_P_RP = log_loss(y_P, model_f.predict_proba(X_P))\n",
    "    E_Q_RQ = log_loss(y_Q, model_f.predict_proba(X_Q))\n",
    "    \n",
    "    if print_logloss:\n",
    "        print(\"===Estimiate log loss===\")\n",
    "        print(\"E_P_RP: \", E_P_RP)\n",
    "        print(\"E_Q_RP: \", E_Q_RQ)\n",
    "    else:\n",
    "        pass\n",
    "\n",
    "    # Step 2: Estimate alpha hat\n",
    "    n_P = len(y_P)\n",
    "    n_Q = len(y_Q)\n",
    "    alpha_hat = n_Q / (n_P + n_Q)\n",
    "\n",
    "    # Step 3: Estimate pi_hat(x)\n",
    "    # Compare this paper Stable Learning via Sample Reweighting https://arxiv.org/abs/1911.12580\n",
    "    X_combined = np.vstack((X_P, X_Q))\n",
    "    y_combined = np.hstack((np.zeros(len(y_P)), np.ones(len(y_Q))))\n",
    "    pi_estimator.fit(X_combined, y_combined)\n",
    "\n",
    "    # Step 4: Calculate importance weights\n",
    "    pi_P = pi_estimator.predict_proba(X_P)[:, 1]\n",
    "    pi_Q = pi_estimator.predict_proba(X_Q)[:, 1]\n",
    "    w_P = pi_P / ((1 - alpha_hat) * pi_P + alpha_hat * (1 - pi_P))\n",
    "    w_Q = (1 - pi_Q) / ((1 - alpha_hat) * pi_Q + alpha_hat * (1 - pi_Q))\n",
    "    \n",
    "    # Step 5: Estimate E_S[R_P(X)] and E_S[R_Q(X)] using these importance weights:\n",
    "    proba_P = model_f.predict_proba(X_P)\n",
    "    proba_Q = model_f.predict_proba(X_Q)\n",
    "\n",
    "    logloss_P = np.array([-np.log(proba_P[i][y_P[i]]) for i in range(len(y_P))])\n",
    "    logloss_Q = np.array([-np.log(proba_Q[i][y_Q[i]]) for i in range(len(y_Q))])\n",
    "\n",
    "    E_S_RP = np.sum(w_P * logloss_P) / np.sum(w_P)\n",
    "    E_S_RQ = np.sum(w_Q * logloss_Q) / np.sum(w_Q)\n",
    "\n",
    "\n",
    "    # Step 6: Differences between consecutive pairs of estimates\n",
    "    P_to_S    = E_P_RP - E_S_RP # P to S\n",
    "    Y_X_Shift = E_S_RP - E_S_RQ # Y|X shfit  \n",
    "    S_to_Q    = E_S_RQ - E_Q_RQ # S to Q\n",
    "\n",
    "    \n",
    "    return P_to_S, Y_X_Shift, S_to_Q"
   ]
  },
  {
   "cell_type": "code",
   "execution_count": 4,
   "id": "b8f28a84-3572-4bb6-9433-0f29e115e720",
   "metadata": {},
   "outputs": [
    {
     "name": "stdout",
     "output_type": "stream",
     "text": [
      "===Estimiate log loss===\n",
      "E_P_RP:  0.057436977040141036\n",
      "E_Q_RP:  0.6054056749729124\n"
     ]
    }
   ],
   "source": [
    "P_to_S, Y_X_Shift, S_to_Q = detect_shift(X_P, X_Q, y_P, y_Q)"
   ]
  },
  {
   "cell_type": "code",
   "execution_count": 5,
   "id": "abf1399d-78b6-4245-b74a-9cd5194674de",
   "metadata": {},
   "outputs": [
    {
     "name": "stdout",
     "output_type": "stream",
     "text": [
      "===Estimiate log loss===\n",
      "E_P_RP:  0.057436977040141036\n",
      "E_Q_RP:  0.6054056749729124\n"
     ]
    },
    {
     "data": {
      "text/plain": [
       "(-0.023710748368584132, -0.09562923543101379, -0.4286287141331735)"
      ]
     },
     "execution_count": 5,
     "metadata": {},
     "output_type": "execute_result"
    }
   ],
   "source": [
    " detect_shift(X_P, X_Q, y_P, y_Q)"
   ]
  },
  {
   "cell_type": "code",
   "execution_count": 6,
   "id": "8e81ed57-6d18-4aff-a183-f53a69ccb4da",
   "metadata": {},
   "outputs": [],
   "source": [
    "def model_run(X_P, X_Q, y_P, y_Q):\n",
    "    model = RandomForestClassifier(max_depth=2, random_state=0)\n",
    "    model.fit(X_P, y_P)\n",
    "\n",
    "    y_P_pred = model.predict(X_P)\n",
    "    y_Q_pred = model.predict(X_Q)\n",
    "\n",
    "    accuracy_P = accuracy_score(y_P, y_P_pred)\n",
    "    accuracy_Q = accuracy_score(y_Q, y_Q_pred)\n",
    "\n",
    "    #print(f\"Accuracy on Source: {accuracy_P}\")\n",
    "    #print(f\"Accuracy on Target: {accuracy_Q}\")\n",
    "\n",
    "    accuracy_degradation = accuracy_P - accuracy_Q\n",
    "    #print(f\"Accuracy degradation from Source to Target: {accuracy_degradation}\")\n",
    "    \n",
    "    return accuracy_P, accuracy_Q\n",
    "\n",
    "\n"
   ]
  },
  {
   "cell_type": "code",
   "execution_count": 7,
   "id": "f7151707-8134-4c83-83e8-a814b3316ece",
   "metadata": {},
   "outputs": [],
   "source": [
    "P, Q = model_run(X_P, X_Q, y_P, y_Q)"
   ]
  },
  {
   "cell_type": "code",
   "execution_count": 8,
   "id": "46a20bb3-e8db-4dab-bafe-cda52f36054b",
   "metadata": {},
   "outputs": [],
   "source": [
    "Y_X_Shift_norm = (Y_X_Shift / (P_to_S + Y_X_Shift + S_to_Q )) * (P - Q)\n",
    "P_to_S_norm = (P_to_S / (P_to_S + Y_X_Shift + S_to_Q )) * (P - Q)\n",
    "S_to_Q_norm = (S_to_Q / (P_to_S + Y_X_Shift + S_to_Q )) * (P - Q)"
   ]
  },
  {
   "cell_type": "code",
   "execution_count": 9,
   "id": "e1db9762-8af7-441d-b143-9c336fee4dc4",
   "metadata": {},
   "outputs": [
    {
     "data": {
      "image/png": "[encoded data removed]",
      "text/plain": [
       "<Figure size 640x480 with 1 Axes>"
      ]
     },
     "metadata": {},
     "output_type": "display_data"
    }
   ],
   "source": [
    "import matplotlib.pyplot as plt\n",
    "\n",
    "x_values = ['Source(Age <= 25)', 'Target General population', 'difference']\n",
    "y_values = [P, Q, [P_to_S_norm, S_to_Q_norm, Y_X_Shift_norm]]\n",
    "difference_labels = ['P_to_S', 'S_to_Q', 'Y_X_shift']\n",
    "\n",
    "fig, ax = plt.subplots()\n",
    "ax.bar(x_values[:-1], y_values[:-1], align='center')\n",
    "ax.bar(difference_labels, y_values[-1], align='center', width=0.5)\n",
    "\n",
    "ax.set_ylim([0, 1])\n",
    "plt.xticks(rotation=45)  # X축 레이블을 45도로 회전\n",
    "\n",
    "plt.title('Y|X shift: missing/unobserved covariates [Education covariates]')\n",
    "plt.ylabel('Accuracy')\n",
    "plt.tight_layout()\n",
    "plt.show()\n",
    "\n"
   ]
  },
  {
   "cell_type": "code",
   "execution_count": null,
   "id": "57d4beae-f523-4558-ac82-d6250c0f6ff5",
   "metadata": {},
   "outputs": [],
   "source": []
  }
 ],
 "metadata": {
  "kernelspec": {
   "display_name": "bigcon",
   "language": "python",
   "name": "bigcon"
  },
  "language_info": {
   "codemirror_mode": {
    "name": "ipython",
    "version": 3
   },
   "file_extension": ".py",
   "mimetype": "text/x-python",
   "name": "python",
   "nbconvert_exporter": "python",
   "pygments_lexer": "ipython3",
   "version": "3.8.13"
  }
 },
 "nbformat": 4,
 "nbformat_minor": 5
}
